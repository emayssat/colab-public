{
  "nbformat": 4,
  "nbformat_minor": 0,
  "metadata": {
    "colab": {
      "provenance": [],
      "authorship_tag": "ABX9TyPn5gv9bYrRJ4aZDVDaSor9",
      "include_colab_link": true
    },
    "kernelspec": {
      "name": "python3",
      "display_name": "Python 3"
    },
    "language_info": {
      "name": "python"
    }
  },
  "cells": [
    {
      "cell_type": "markdown",
      "metadata": {
        "id": "view-in-github",
        "colab_type": "text"
      },
      "source": [
        "<a href=\"https://colab.research.google.com/github/emayssat/colab-public/blob/main/first.ipynb\" target=\"_parent\"><img src=\"https://colab.research.google.com/assets/colab-badge.svg\" alt=\"Open In Colab\"/></a>"
      ]
    },
    {
      "cell_type": "code",
      "execution_count": 9,
      "metadata": {
        "colab": {
          "base_uri": "https://localhost:8080/"
        },
        "id": "TX9lDPNVq5K5",
        "outputId": "dc13e752-ba48-4326-dae8-f980d8a8c564"
      },
      "outputs": [
        {
          "output_type": "stream",
          "name": "stdout",
          "text": [
            "20\n"
          ]
        }
      ],
      "source": [
        "toto = -3\n",
        "\n",
        "toto += 23\n",
        "print(toto)"
      ]
    },
    {
      "cell_type": "markdown",
      "source": [
        "Once upon a time, I was a little boy !"
      ],
      "metadata": {
        "id": "rkjOEghptWg4"
      }
    },
    {
      "cell_type": "code",
      "source": [
        "tata = toto + 3\n",
        "print(tata)"
      ],
      "metadata": {
        "id": "pFfc4uZ4taTj",
        "outputId": "0f8a8754-a0d3-40b4-a07a-68e56ce516cb",
        "colab": {
          "base_uri": "https://localhost:8080/"
        }
      },
      "execution_count": 10,
      "outputs": [
        {
          "output_type": "stream",
          "name": "stdout",
          "text": [
            "23\n"
          ]
        }
      ]
    }
  ]
}