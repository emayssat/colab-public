{
  "nbformat": 4,
  "nbformat_minor": 0,
  "metadata": {
    "colab": {
      "provenance": [],
      "authorship_tag": "ABX9TyO4wEN/dJmaaBdsCGePIaRm",
      "include_colab_link": true
    },
    "kernelspec": {
      "name": "python3",
      "display_name": "Python 3"
    },
    "language_info": {
      "name": "python"
    }
  },
  "cells": [
    {
      "cell_type": "markdown",
      "metadata": {
        "id": "view-in-github",
        "colab_type": "text"
      },
      "source": [
        "<a href=\"https://colab.research.google.com/github/emayssat/colab-public/blob/main/first.ipynb\" target=\"_parent\"><img src=\"https://colab.research.google.com/assets/colab-badge.svg\" alt=\"Open In Colab\"/></a>"
      ]
    },
    {
      "cell_type": "code",
      "execution_count": 3,
      "metadata": {
        "colab": {
          "base_uri": "https://localhost:8080/"
        },
        "id": "TX9lDPNVq5K5",
        "outputId": "d158acbf-ccbe-4395-87f5-54cc59d76eef"
      },
      "outputs": [
        {
          "output_type": "stream",
          "name": "stdout",
          "text": [
            "35\n"
          ]
        }
      ],
      "source": [
        "toto = 12\n",
        "toto += 23\n",
        "print(toto)"
      ]
    },
    {
      "cell_type": "markdown",
      "source": [
        "Once upon a time, I was a little boy !"
      ],
      "metadata": {
        "id": "rkjOEghptWg4"
      }
    },
    {
      "cell_type": "code",
      "source": [
        "tata = toto + 5\n",
        "print(tata)"
      ],
      "metadata": {
        "id": "pFfc4uZ4taTj",
        "outputId": "e97087b4-3c28-46a7-ad09-50e4e3afbc59",
        "colab": {
          "base_uri": "https://localhost:8080/"
        }
      },
      "execution_count": 4,
      "outputs": [
        {
          "output_type": "stream",
          "name": "stdout",
          "text": [
            "40\n"
          ]
        }
      ]
    }
  ]
}