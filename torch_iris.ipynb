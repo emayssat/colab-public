{
  "nbformat": 4,
  "nbformat_minor": 0,
  "metadata": {
    "colab": {
      "provenance": [],
      "authorship_tag": "ABX9TyOGipLQ/c7BKVfRWh4AL3d1",
      "include_colab_link": true
    },
    "kernelspec": {
      "name": "python3",
      "display_name": "Python 3"
    },
    "language_info": {
      "name": "python"
    }
  },
  "cells": [
    {
      "cell_type": "markdown",
      "metadata": {
        "id": "view-in-github",
        "colab_type": "text"
      },
      "source": [
        "<a href=\"https://colab.research.google.com/github/emayssat/colab-public/blob/main/torch_iris.ipynb\" target=\"_parent\"><img src=\"https://colab.research.google.com/assets/colab-badge.svg\" alt=\"Open In Colab\"/></a>"
      ]
    },
    {
      "cell_type": "markdown",
      "source": [
        "# Getting started with iris\n",
        "\n",
        "In this colab, we build a an iris recognition engine based on a dataset provided in sklearn \n",
        "\n",
        "---\n",
        "## Links\n",
        "* Sklearn - https://scikit-learn.org/stable/index.html\n",
        "* Source document - https://janakiev.com/blog/pytorch-iris/\n"
      ],
      "metadata": {
        "id": "WxDh4MOklW8e"
      }
    },
    {
      "cell_type": "code",
      "execution_count": 1,
      "metadata": {
        "id": "r84WVMo5lKAG"
      },
      "outputs": [],
      "source": [
        "\n",
        "import numpy as np\n",
        "import pandas as pd\n",
        "import matplotlib.pyplot as plt\n",
        "\n",
        "plt.style.use('ggplot')"
      ]
    },
    {
      "cell_type": "code",
      "source": [
        "from sklearn.datasets import load_iris\n",
        "from sklearn.model_selection import train_test_split\n",
        "from sklearn.preprocessing import StandardScaler\n",
        "\n",
        "iris = load_iris()\n",
        "type(iris)"
      ],
      "metadata": {
        "colab": {
          "base_uri": "https://localhost:8080/"
        },
        "id": "aXslYMzX6C6S",
        "outputId": "6411f6f8-44aa-4ac9-96be-cc8f16ed1f1b"
      },
      "execution_count": 2,
      "outputs": [
        {
          "output_type": "execute_result",
          "data": {
            "text/plain": [
              "sklearn.utils.Bunch"
            ]
          },
          "metadata": {},
          "execution_count": 2
        }
      ]
    },
    {
      "cell_type": "markdown",
      "source": [
        "## sklearn.utils.Bunch\n",
        "Container object exposing keys as attributes.\n",
        "\n",
        "Bunch objects are sometimes used as an output for functions and methods. They extend dictionaries by enabling values to be accessed by key, bunch[\"value_key\"], or by an attribute, bunch.value_key.\n",
        "\n",
        "More at https://scikit-learn.org/stable/modules/generated/sklearn.utils.Bunch.html"
      ],
      "metadata": {
        "id": "bDlyeCOV7GMH"
      }
    },
    {
      "cell_type": "code",
      "source": [
        "iris.keys()"
      ],
      "metadata": {
        "colab": {
          "base_uri": "https://localhost:8080/"
        },
        "id": "oIOTB-Ux6jT4",
        "outputId": "b5deb5cd-463e-4707-bbb4-b156d2d444fd"
      },
      "execution_count": 3,
      "outputs": [
        {
          "output_type": "execute_result",
          "data": {
            "text/plain": [
              "dict_keys(['data', 'target', 'frame', 'target_names', 'DESCR', 'feature_names', 'filename', 'data_module'])"
            ]
          },
          "metadata": {},
          "execution_count": 3
        }
      ]
    },
    {
      "cell_type": "markdown",
      "source": [
        "Let's print the description of the dataset contained in the Bunch object"
      ],
      "metadata": {
        "id": "k3ksimeX9E4J"
      }
    },
    {
      "cell_type": "code",
      "source": [
        "print(iris.DESCR[:190],'...', '\\n' * 3)\n",
        "print(iris.feature_names)\n",
        "print(iris.target_names)\n",
        "print(iris.data[:5])\n",
        "print(iris.target[:5])\n",
        "# iris"
      ],
      "metadata": {
        "id": "2LP10MOS8Vmw",
        "outputId": "99cf4aca-bc1e-4891-9523-911dd688cae1",
        "colab": {
          "base_uri": "https://localhost:8080/"
        }
      },
      "execution_count": 41,
      "outputs": [
        {
          "output_type": "stream",
          "name": "stdout",
          "text": [
            ".. _iris_dataset:\n",
            "\n",
            "Iris plants dataset\n",
            "--------------------\n",
            "\n",
            "**Data Set Characteristics:**\n",
            "\n",
            "    :Number of Instances: 150 (50 in each of three classes)\n",
            "    :Number of Attributes: 4 numeric,  ... \n",
            "\n",
            "\n",
            "\n",
            "['sepal length (cm)', 'sepal width (cm)', 'petal length (cm)', 'petal width (cm)']\n",
            "['setosa' 'versicolor' 'virginica']\n",
            "[[5.1 3.5 1.4 0.2]\n",
            " [4.9 3.  1.4 0.2]\n",
            " [4.7 3.2 1.3 0.2]\n",
            " [4.6 3.1 1.5 0.2]\n",
            " [5.  3.6 1.4 0.2]]\n",
            "[0 0 0 0 0]\n"
          ]
        }
      ]
    },
    {
      "cell_type": "markdown",
      "source": [],
      "metadata": {
        "id": "2vm5UcOx7Erg"
      }
    },
    {
      "cell_type": "code",
      "source": [
        "X = iris['data']\n",
        "y = iris['target']\n",
        "names = iris['target_names']\n",
        "feature_names = iris['feature_names']\n",
        "target_names = iris['target_names']\n",
        "\n",
        "print(target_names)\n",
        "print(feature_names)\n",
        "\n",
        "X[:5]"
      ],
      "metadata": {
        "id": "px-jQwN26M_Z",
        "outputId": "ae1c62db-9677-4be8-c787-30b59ae5ec08",
        "colab": {
          "base_uri": "https://localhost:8080/"
        }
      },
      "execution_count": 42,
      "outputs": [
        {
          "output_type": "stream",
          "name": "stdout",
          "text": [
            "['setosa' 'versicolor' 'virginica']\n",
            "['sepal length (cm)', 'sepal width (cm)', 'petal length (cm)', 'petal width (cm)']\n"
          ]
        },
        {
          "output_type": "execute_result",
          "data": {
            "text/plain": [
              "array([[5.1, 3.5, 1.4, 0.2],\n",
              "       [4.9, 3. , 1.4, 0.2],\n",
              "       [4.7, 3.2, 1.3, 0.2],\n",
              "       [4.6, 3.1, 1.5, 0.2],\n",
              "       [5. , 3.6, 1.4, 0.2]])"
            ]
          },
          "metadata": {},
          "execution_count": 42
        }
      ]
    },
    {
      "cell_type": "code",
      "source": [
        "# Scale data to have mean 0 and variance 1 \n",
        "# which is importance for convergence of the neural network\n",
        "scaler = StandardScaler()\n",
        "X_scaled = scaler.fit_transform(X)\n",
        "\n",
        "X_scaled[:5]"
      ],
      "metadata": {
        "id": "nXBVBrWMCarh",
        "outputId": "eab1bd2d-53ca-441b-9b44-1e5675d785e7",
        "colab": {
          "base_uri": "https://localhost:8080/"
        }
      },
      "execution_count": 10,
      "outputs": [
        {
          "output_type": "execute_result",
          "data": {
            "text/plain": [
              "array([[-0.90068117,  1.01900435, -1.34022653, -1.3154443 ],\n",
              "       [-1.14301691, -0.13197948, -1.34022653, -1.3154443 ],\n",
              "       [-1.38535265,  0.32841405, -1.39706395, -1.3154443 ],\n",
              "       [-1.50652052,  0.09821729, -1.2833891 , -1.3154443 ],\n",
              "       [-1.02184904,  1.24920112, -1.34022653, -1.3154443 ]])"
            ]
          },
          "metadata": {},
          "execution_count": 10
        }
      ]
    },
    {
      "cell_type": "markdown",
      "source": [
        "## Understanding Scaler\n",
        "\n",
        "* https://scikit-learn.org/stable/modules/generated/sklearn.preprocessing.StandardScaler.html\n",
        "\n"
      ],
      "metadata": {
        "id": "u9AiljEhGw1L"
      }
    },
    {
      "cell_type": "code",
      "source": [
        "_data = [[0, 0], [0, 0], [1, 1], [1, 1]]\n",
        "_scaler = StandardScaler()\n",
        "\n",
        "# Compute mean and std-deviation of the dataset\n",
        "print(_scaler.fit(_data))\n",
        "# StandardScaler()\n",
        "print(_scaler.mean_)\n",
        "# [0.5 0.5]\n",
        "print(_scaler.var_)\n",
        "# [0.25, 0.25]\n",
        "print(_scaler.transform(_data))\n",
        "# [[-1. -1.]\n",
        "#  [-1. -1.]\n",
        "#  [ 1.  1.]\n",
        "#  [ 1.  1.]]\n",
        "\n",
        "# Apply transformation on another sample\n",
        "# Note that this sample is not used in the computation of the mean and variance\n",
        "print(_scaler.transform([[2, 2]]))\n",
        "# [[3. 3.]]"
      ],
      "metadata": {
        "id": "GlLMAb20GyCs",
        "outputId": "31f13570-29f8-4ed2-e8ab-581e4fea54b2",
        "colab": {
          "base_uri": "https://localhost:8080/"
        }
      },
      "execution_count": 16,
      "outputs": [
        {
          "output_type": "stream",
          "name": "stdout",
          "text": [
            "StandardScaler()\n",
            "[0.5 0.5]\n",
            "[0.25 0.25]\n",
            "[[-1. -1.]\n",
            " [-1. -1.]\n",
            " [ 1.  1.]\n",
            " [ 1.  1.]]\n",
            "[[3. 3.]]\n"
          ]
        }
      ]
    },
    {
      "cell_type": "markdown",
      "source": [
        "## Training and testing sets\n",
        "Let's separate the dataset in 2: \n",
        "1. the training-set (100%-20%)\n",
        "1. and the test-set (20% of dataset)"
      ],
      "metadata": {
        "id": "aOT3sdZJZ6I-"
      }
    },
    {
      "cell_type": "code",
      "source": [
        "# Split the data set into training (100%-20%) and testing (20%)\n",
        "X_train, X_test, y_train, y_test = train_test_split(\n",
        "    X_scaled, y, test_size=0.2, random_state=2)\n",
        "print(\"y_data\", len(y), \"=\", \"y_train\", len(y_train), \"+\", \"y_test\", len(y_test))\n",
        "print(\"X_data\", len(X_scaled), \"=\", \"X_train\", len(X_train), 'X_test', len(X_test))\n",
        "print('X_train[0]', X_train[0], \"y_train\", y_train[0])\n",
        "print(target_names)\n",
        "print(feature_names)\n"
      ],
      "metadata": {
        "id": "dK8P2eLpCC4n",
        "outputId": "d07da323-9f79-4e67-cb24-3d97bd1c3686",
        "colab": {
          "base_uri": "https://localhost:8080/"
        }
      },
      "execution_count": 28,
      "outputs": [
        {
          "output_type": "stream",
          "name": "stdout",
          "text": [
            "y_data 150 = y_train 120 + y_test 30\n",
            "X_data 150 = X_train 120 X_test 30\n",
            "X_train[0] [ 0.4321654  -0.59237301  0.59224599  0.79067065] y_train 2\n",
            "['setosa' 'versicolor' 'virginica']\n",
            "['sepal length (cm)', 'sepal width (cm)', 'petal length (cm)', 'petal width (cm)']\n"
          ]
        }
      ]
    },
    {
      "cell_type": "markdown",
      "source": [
        "## Visualize the Data\n",
        "Let’s take a look at our data to see what we are dealing with."
      ],
      "metadata": {
        "id": "H-4Sgo8igw8K"
      }
    },
    {
      "cell_type": "code",
      "source": [
        "import matplotlib.pyplot as plt\n",
        "\n",
        "plt.style.use('ggplot')\n",
        "\n",
        "fig, (ax1, ax2, ax3) = plt.subplots(1, 3, figsize=(21, 6))\n",
        "\n",
        "# Left plot\n",
        "for target, target_name in enumerate(names):\n",
        "    X_plot = X[y == target]\n",
        "    ax1.plot(X_plot[:, 0], X_plot[:, 1], \n",
        "             linestyle='none', \n",
        "             marker='o', \n",
        "             label=target_name)\n",
        "ax1.set_xlabel(feature_names[0])\n",
        "ax1.set_ylabel(feature_names[1])\n",
        "ax1.axis('equal')\n",
        "ax1.legend();\n",
        "\n",
        "# Right plot\n",
        "for target, target_name in enumerate(names):\n",
        "    X_plot = X[y == target]\n",
        "    ax2.plot(X_plot[:, 2], X_plot[:, 3], \n",
        "             linestyle='none', \n",
        "             marker='o', \n",
        "             label=target_name)\n",
        "ax2.set_xlabel(feature_names[2])\n",
        "ax2.set_ylabel(feature_names[3])\n",
        "ax2.axis('equal')\n",
        "ax2.legend();"
      ],
      "metadata": {
        "id": "1iGBZ58ZgzkY",
        "outputId": "18645369-8111-4e34-9a59-cbe0bc1f525b",
        "colab": {
          "base_uri": "https://localhost:8080/",
          "height": 395
        }
      },
      "execution_count": 49,
      "outputs": [
        {
          "output_type": "display_data",
          "data": {
            "text/plain": [
              "<Figure size 1512x432 with 3 Axes>"
            ],
            "image/png": "[encoded data removed]"
          },
          "metadata": {}
        }
      ]
    }
  ]
}